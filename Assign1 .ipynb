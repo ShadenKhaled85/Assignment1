{
 "cells": [
  {
   "cell_type": "markdown",
   "id": "6c48da9e",
   "metadata": {},
   "source": [
    "# 1) Implement Fibonacci series using recursion "
   ]
  },
  {
   "cell_type": "code",
   "execution_count": null,
   "id": "15ad4db1",
   "metadata": {},
   "outputs": [],
   "source": [
    "def fib ( n ) :\n",
    "    if n < 0 :\n",
    "        print(\"Invalid number\") \n",
    "    elif n == 0 :\n",
    "        return 0\n",
    "    elif n == 1 or n == 2 :\n",
    "        return 1 \n",
    "    else : \n",
    "        return ( fib( n-1 ) + fib( n-2 ) )\n",
    "    # not fib(n) = fib(n-1)+ fib( n-2 ) as I can't assign to function call\n",
    "\n",
    "x = fib( 9 )\n",
    "print (\" The result of fibonacci series of 9 terms : \" , x )"
   ]
  },
  {
   "cell_type": "markdown",
   "id": "9a7d2d05",
   "metadata": {},
   "source": [
    "# 2) Write a function that will take a given string and reverse the order of the words. "
   ]
  },
  {
   "cell_type": "code",
   "execution_count": null,
   "id": "7e490e1e",
   "metadata": {},
   "outputs": [],
   "source": [
    "string = input ( \"Enter a sentence to be reversed : \")\n",
    "s = string.split()[::-1]# to bring the string from backwards ( -1 ) and will split them wherever it finds a space \n",
    "l = [] # empty list to put the reversed words in it \n",
    "for i in s:\n",
    "    # apending reversed words to l\n",
    "    l.append(i)\n",
    "    \n",
    "# join is used to join the space with words\n",
    "# The join() method takes all items in an iterable and joins them into one string.\n",
    "# A string must be specified as the separator.\n",
    "# \" \" is used as a separator --> \"string\".join() \n",
    "print(\" \".join(l))\n",
    "    \n",
    "    "
   ]
  },
  {
   "cell_type": "markdown",
   "id": "eaa003bc",
   "metadata": {},
   "source": [
    "# 3) Write a function, primeNumberDetector, that tests if a number, n is a prime number."
   ]
  },
  {
   "cell_type": "raw",
   "id": "563db8fa",
   "metadata": {},
   "source": [
    "If no. is divisible by any number between 2 and n/2 , it isn't a prime number\n",
    "-ve and float numbers aren'r prime numbers\n",
    "0 and 1 aren't prime "
   ]
  },
  {
   "cell_type": "code",
   "execution_count": 3,
   "id": "0952d890",
   "metadata": {},
   "outputs": [
    {
     "name": "stdout",
     "output_type": "stream",
     "text": [
      "Enter a number to check whether a number is prime or not : 5\n",
      "5 is a prime number\n"
     ]
    }
   ],
   "source": [
    "num = int(input(\"Enter a number to check whether a number is prime or not : \"))\n",
    "\n",
    "# If given number is greater than 1\n",
    "if num > 1:\n",
    "    # Iterate from 2 to n / 2\n",
    "    for i in range( 2, int(num/2)+1 ) :\n",
    "        if (num % i) == 0 :\n",
    "            print(num, \"is not a prime number\")\n",
    "            break\n",
    "    else:\n",
    "        print(num, \"is a prime number\")\n",
    "else:\n",
    "    print(num, \"is not a prime number\")"
   ]
  },
  {
   "cell_type": "markdown",
   "id": "231577e0",
   "metadata": {},
   "source": [
    "# 4) Given an integer x, return true if x is a palindrome, and false otherwise."
   ]
  },
  {
   "cell_type": "raw",
   "id": "8a3ae793",
   "metadata": {},
   "source": [
    "# 4) Given an integer x, return true if x is a palindrome, and false otherwise."
   ]
  },
  {
   "cell_type": "code",
   "execution_count": null,
   "id": "152a04b1",
   "metadata": {},
   "outputs": [],
   "source": []
  },
  {
   "cell_type": "code",
   "execution_count": null,
   "id": "2fc1765e",
   "metadata": {},
   "outputs": [],
   "source": []
  }
 ],
 "metadata": {
  "kernelspec": {
   "display_name": "Python 3 (ipykernel)",
   "language": "python",
   "name": "python3"
  },
  "language_info": {
   "codemirror_mode": {
    "name": "ipython",
    "version": 3
   },
   "file_extension": ".py",
   "mimetype": "text/x-python",
   "name": "python",
   "nbconvert_exporter": "python",
   "pygments_lexer": "ipython3",
   "version": "3.9.13"
  }
 },
 "nbformat": 4,
 "nbformat_minor": 5
}
